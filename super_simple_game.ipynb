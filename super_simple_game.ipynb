{
 "cells": [
  {
   "cell_type": "code",
   "execution_count": 1,
   "metadata": {},
   "outputs": [],
   "source": [
    "import numpy as np\n",
    "import matplotlib.pyplot as plt"
   ]
  },
  {
   "cell_type": "markdown",
   "metadata": {},
   "source": [
    "# Supersimple game:\n",
    "Given a state as a vector the AI has to learn to play over 0 value."
   ]
  },
  {
   "cell_type": "code",
   "execution_count": 2,
   "metadata": {},
   "outputs": [],
   "source": [
    "# Definition of the reward function in the game:\n",
    "def reward_func(state, action):\n",
    "    # State is a vector and action an index \n",
    "    # with the position of the state over which to play:\n",
    "    next_state = np.empty_like(state)\n",
    "    next_state[:] = state\n",
    "    if next_state[action] == 0:\n",
    "        next_state[action] = 1\n",
    "        return next_state, +1\n",
    "    else:\n",
    "        return next_state, -1"
   ]
  },
  {
   "cell_type": "code",
   "execution_count": 3,
   "metadata": {},
   "outputs": [],
   "source": [
    "## Check the game is working properly.\n",
    "#for i in range(10):\n",
    "#    state = np.random.randint(0, high=2, size=5)\n",
    "#    print(state)\n",
    "#    ind = np.random.randint(0,high=5)\n",
    "#    next_state, reward = reward_func(state, ind)\n",
    "#    print(ind, state, next_state, reward)"
   ]
  },
  {
   "cell_type": "markdown",
   "metadata": {},
   "source": [
    "# Agent settings"
   ]
  },
  {
   "cell_type": "code",
   "execution_count": 4,
   "metadata": {},
   "outputs": [],
   "source": [
    "# Definition of neural net:\n",
    "import torch\n",
    "import torch.nn as nn\n",
    "import torch.nn.functional as F\n",
    "\n",
    "class DQN(nn.Module):\n",
    "    def __init__(self, D_in, H1, H2, D_out):\n",
    "        super(DQN, self).__init__()\n",
    "        self.lin1 = nn.Linear(D_in, H1)\n",
    "        self.lin2 = nn.Linear(H1, H2)\n",
    "        self.lin3 = nn.Linear(H2, D_out)\n",
    "        self.transfer = nn.ReLU()\n",
    "\n",
    "    def forward(self, x):\n",
    "        x = F.relu(self.lin1(x))\n",
    "        x = F.relu(self.lin2(x))\n",
    "        x = self.lin3(x)\n",
    "        return x"
   ]
  },
  {
   "cell_type": "code",
   "execution_count": 5,
   "metadata": {},
   "outputs": [],
   "source": [
    "from collections import namedtuple\n",
    "import random\n",
    "# Define replay memory:\n",
    "Transition = namedtuple('Transition',\\\n",
    "        ('state', 'action', 'reward', 'next_state'))\n",
    "\n",
    "class ReplayMemory:\n",
    "    def __init__(self, capacity):\n",
    "        self.capacity = capacity\n",
    "        self.memory = []\n",
    "\n",
    "    def add(self, *args):\n",
    "        self.memory.append(Transition(*args))\n",
    "\n",
    "    def sample(self, batch):\n",
    "        return random.sample(self.memory, batch)\n",
    "\n",
    "    def __len__(self):\n",
    "        return len(self.memory)"
   ]
  },
  {
   "cell_type": "code",
   "execution_count": 6,
   "metadata": {},
   "outputs": [],
   "source": [
    "def optimize(policy, target, memory, BATCH, optimizer):\n",
    "    if memory.__len__() < BATCH:\n",
    "        return\n",
    "    \n",
    "    transitions = memory.sample(BATCH)\n",
    "    batch = Transition(*zip(*transitions))\n",
    "    \n",
    "    # Separate states, rewards,...\n",
    "    states = torch.cat(batch.state).reshape(BATCH, -1)\n",
    "    actions = torch.cat(batch.action)\n",
    "    rewards = torch.cat(batch.reward)\n",
    "    next_state = torch.cat(batch.next_state).reshape(BATCH, -1)\n",
    "    \n",
    "    # Evaluate policy on states:\n",
    "    out_policy = policy(states).gather(1, actions)\n",
    "    \n",
    "    # Evaluate target:\n",
    "    out_target = target(next_state).max(1)[0]\n",
    "    \n",
    "    for elem in range(out_target.size(0)):\n",
    "        if torch.sum(next_state[elem,:]==5): out_target *= 0.\n",
    "    \n",
    "    target = (rewards + GAMMA * out_target).view(BATCH,1)\n",
    "    loss = torch.mean(torch.pow(out_policy - target,2))\n",
    "    \n",
    "    optimizer.zero_grad()\n",
    "    loss.backward()\n",
    "    for param in policy.parameters():\n",
    "        param.grad.data.clamp_(-1, 1)\n",
    "     \n",
    "    optimizer.step()\n",
    "    return loss.item()"
   ]
  },
  {
   "cell_type": "code",
   "execution_count": 7,
   "metadata": {},
   "outputs": [],
   "source": [
    "CAPACITY = 10000\n",
    "BATCH = 100\n",
    "EPISODES = 2000\n",
    "GAMMA = 0.99\n",
    "UPDATE = 200\n",
    "IT_PRINT = 100"
   ]
  },
  {
   "cell_type": "code",
   "execution_count": 8,
   "metadata": {},
   "outputs": [],
   "source": [
    "EPS = 5e-2\n",
    "def select_move(policy, state):\n",
    "    if random.random() < EPS:\n",
    "        return torch.randint(0,5,(1,1))\n",
    "    else:\n",
    "        policy_value = policy(torch.Tensor(state))\n",
    "        return policy_value.max(0)[1].view(1,1)"
   ]
  },
  {
   "cell_type": "code",
   "execution_count": 9,
   "metadata": {},
   "outputs": [],
   "source": [
    "# Define policy and target functions.\n",
    "policy = DQN(5,15,15,5)\n",
    "target = DQN(5,15,15,5)\n",
    "target.load_state_dict(policy.state_dict())\n",
    "target.eval()\n",
    "\n",
    "# Declare optimizer:\n",
    "optimizer = torch.optim.RMSprop(policy.parameters(), lr=0.0025)"
   ]
  },
  {
   "cell_type": "code",
   "execution_count": 10,
   "metadata": {},
   "outputs": [
    {
     "name": "stdout",
     "output_type": "stream",
     "text": [
      "5100 0.004618585109710693 3\n"
     ]
    }
   ],
   "source": [
    "from IPython.display import clear_output\n",
    "\n",
    "# Initialize replaymemory.\n",
    "replaymemory = ReplayMemory(CAPACITY)\n",
    "\n",
    "loss_list, reward_list = [], []\n",
    "epoch = 0\n",
    "# Start training loop:\n",
    "for episode in range(EPISODES):\n",
    "    state = np.random.randint(0, high=2, size=5)\n",
    "    total_reward = 0\n",
    "    while np.sum(state) < 5:\n",
    "        # Pass state to agent to select a position to play:\n",
    "        ind = select_move(policy, state)\n",
    "        next_state, reward = reward_func(state,ind.item())\n",
    "        \n",
    "        total_reward += reward\n",
    "        \n",
    "        replaymemory.add(torch.Tensor(state),\\\n",
    "                         ind,\\\n",
    "                         torch.Tensor([reward]),\\\n",
    "                         torch.Tensor(next_state))\n",
    "        \n",
    "        if reward == -1:\n",
    "            ind = torch.randint(0,5,(1,1))\n",
    "            next_state, reward = reward_func(state,ind)\n",
    "            total_reward += reward\n",
    "            replaymemory.add(torch.Tensor(state),\\\n",
    "                         ind,\\\n",
    "                         torch.Tensor([reward]),\\\n",
    "                         torch.Tensor(next_state))\n",
    "        \n",
    "        \n",
    "        state[:] = next_state\n",
    "        #\n",
    "        loss = optimize(policy, target, replaymemory, BATCH,optimizer)\n",
    "        #\n",
    "        if loss is not None and epoch %100 == 0:\n",
    "            clear_output()\n",
    "            print(epoch, loss, total_reward)\n",
    "            loss_list.append(loss) \n",
    "            \n",
    "        epoch += 1\n",
    "    \n",
    "        if epoch % UPDATE == 0:\n",
    "            target.load_state_dict(policy.state_dict())\n",
    "    \n",
    "    reward_list.append(total_reward) "
   ]
  },
  {
   "cell_type": "code",
   "execution_count": 11,
   "metadata": {},
   "outputs": [
    {
     "data": {
      "image/png": "[encoded data removed]",
      "text/plain": [
       "<Figure size 432x288 with 1 Axes>"
      ]
     },
     "metadata": {
      "needs_background": "light"
     },
     "output_type": "display_data"
    },
    {
     "data": {
      "image/png": "[encoded data removed]",
      "text/plain": [
       "<Figure size 432x288 with 1 Axes>"
      ]
     },
     "metadata": {
      "needs_background": "light"
     },
     "output_type": "display_data"
    }
   ],
   "source": [
    "plt.plot(loss_list)\n",
    "plt.ylabel('MSE loss')\n",
    "plt.xlabel('Epoch')\n",
    "plt.show()\n",
    "\n",
    "# Total reward plot\n",
    "plt.plot(reward_list)\n",
    "plt.ylabel('Total reward')\n",
    "plt.xlabel('Episode')\n",
    "plt.show()"
   ]
  },
  {
   "cell_type": "code",
   "execution_count": 12,
   "metadata": {},
   "outputs": [
    {
     "name": "stdout",
     "output_type": "stream",
     "text": [
      "[0, 0, 0, 0, 0] 4 True\n",
      "[0, 0, 0, 0, 1] 1 True\n",
      "[0, 0, 0, 1, 0] 1 True\n",
      "[0, 0, 0, 1, 1] 2 True\n",
      "[0, 0, 1, 0, 0] 1 True\n",
      "[0, 0, 1, 0, 1] 1 True\n",
      "[0, 0, 1, 1, 0] 1 True\n",
      "[0, 0, 1, 1, 1] 1 True\n",
      "[0, 1, 0, 0, 0] 2 True\n",
      "[0, 1, 0, 0, 1] 2 True\n",
      "[0, 1, 0, 1, 0] 2 True\n",
      "[0, 1, 0, 1, 1] 2 True\n",
      "[0, 1, 1, 0, 0] 4 True\n",
      "[0, 1, 1, 0, 1] 3 True\n",
      "[0, 1, 1, 1, 0] 4 True\n",
      "[0, 1, 1, 1, 1] 0 True\n",
      "[1, 0, 0, 0, 0] 4 True\n",
      "[1, 0, 0, 0, 1] 3 True\n",
      "[1, 0, 0, 1, 0] 4 True\n",
      "[1, 0, 0, 1, 1] 2 True\n",
      "[1, 0, 1, 0, 0] 1 True\n",
      "[1, 0, 1, 0, 1] 1 True\n",
      "[1, 0, 1, 1, 0] 4 True\n",
      "[1, 0, 1, 1, 1] 2 False\n",
      "[1, 1, 0, 0, 0] 4 True\n",
      "[1, 1, 0, 0, 1] 3 True\n",
      "[1, 1, 0, 1, 0] 4 True\n",
      "[1, 1, 0, 1, 1] 2 True\n",
      "[1, 1, 1, 0, 0] 4 True\n",
      "[1, 1, 1, 0, 1] 3 True\n",
      "[1, 1, 1, 1, 0] 4 True\n"
     ]
    }
   ],
   "source": [
    "# Check for any posible position on board:\n",
    "for i in range(2):\n",
    "    for j in range(2):\n",
    "        for k in range(2):\n",
    "            for l in range(2):\n",
    "                for m in range(2):\n",
    "                    state = [i,j,k,l,m]\n",
    "                    \n",
    "                    if sum(state) < 5:\n",
    "                        ind = select_move(policy, state)\n",
    "                        _,good = reward_func(state,ind.item())\n",
    "                        if good == 1:\n",
    "                            good = True\n",
    "                        else:\n",
    "                            good = False\n",
    "                        print(state, ind.item(), good)"
   ]
  },
  {
   "cell_type": "code",
   "execution_count": null,
   "metadata": {},
   "outputs": [],
   "source": []
  }
 ],
 "metadata": {
  "kernelspec": {
   "display_name": "Python 3",
   "language": "python",
   "name": "python3"
  },
  "language_info": {
   "codemirror_mode": {
    "name": "ipython",
    "version": 3
   },
   "file_extension": ".py",
   "mimetype": "text/x-python",
   "name": "python",
   "nbconvert_exporter": "python",
   "pygments_lexer": "ipython3",
   "version": "3.7.5"
  }
 },
 "nbformat": 4,
 "nbformat_minor": 2
}
